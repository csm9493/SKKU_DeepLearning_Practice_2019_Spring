{
 "cells": [
  {
   "cell_type": "markdown",
   "metadata": {},
   "source": [
    "# Practice4. Keras"
   ]
  },
  {
   "cell_type": "code",
   "execution_count": null,
   "metadata": {},
   "outputs": [],
   "source": [
    "import os\n",
    "os.environ[\"CUDA_DEVICE_ORDER\"]=\"PCI_BUS_ID\"\n",
    "os.environ[\"CUDA_VISIBLE_DEVICES\"]=\"0\"\n",
    "\n",
    "import tensorflow as tf\n",
    "config = tf.ConfigProto()\n",
    "config.gpu_options.allow_growth = True\n",
    "session = tf.Session(config=config)"
   ]
  },
  {
   "cell_type": "code",
   "execution_count": null,
   "metadata": {},
   "outputs": [],
   "source": [
    "import sys\n",
    "from tensorflow.python.client import device_lib\n",
    "print (device_lib.list_local_devices())"
   ]
  },
  {
   "cell_type": "code",
   "execution_count": null,
   "metadata": {},
   "outputs": [],
   "source": [
    "import numpy as np\n",
    "import random\n",
    "import os\n",
    "import matplotlib.pyplot as plt\n",
    "import pickle\n",
    "import time\n",
    "\n",
    "# set default plot options\n",
    "%matplotlib inline\n",
    "plt.rcParams['figure.figsize'] = (10.0, 8.0)\n",
    "plt.rcParams['image.interpolation'] = 'nearest'\n",
    "plt.rcParams['image.cmap'] = 'gray'"
   ]
  },
  {
   "cell_type": "markdown",
   "metadata": {},
   "source": [
    "## 1. Set up input preprocessing"
   ]
  },
  {
   "cell_type": "code",
   "execution_count": null,
   "metadata": {},
   "outputs": [],
   "source": [
    "from utils import get_CIFAR10_data"
   ]
  },
  {
   "cell_type": "code",
   "execution_count": null,
   "metadata": {},
   "outputs": [],
   "source": [
    "X_tr, Y_tr, X_te, Y_te, mean_img = get_CIFAR10_data()\n",
    "print ('Train data shape : %s,  Train labels shape : %s' % (X_tr.shape, Y_tr.shape))\n",
    "print ('Test data shape : %s,  Test labels shape : %s' % (X_te.shape, Y_te.shape))"
   ]
  },
  {
   "cell_type": "markdown",
   "metadata": {},
   "source": [
    "### Input data를 CNN Model의 Input에 맞는 3차원 형태의 데이터로 만들기"
   ]
  },
  {
   "cell_type": "code",
   "execution_count": null,
   "metadata": {},
   "outputs": [],
   "source": [
    "print ('X_tr : ', X_tr.shape)\n",
    "print ('X_te : ', X_te.shape)"
   ]
  },
  {
   "cell_type": "code",
   "execution_count": null,
   "metadata": {},
   "outputs": [],
   "source": [
    "X_tr_input = X_tr.reshape(-1,32,32,3)\n",
    "X_te_input = X_te.reshape(-1,32,32,3)"
   ]
  },
  {
   "cell_type": "code",
   "execution_count": null,
   "metadata": {},
   "outputs": [],
   "source": [
    "print ('X_tr : ', X_tr_input.shape)\n",
    "print ('X_te : ', X_te_input.shape)"
   ]
  },
  {
   "cell_type": "markdown",
   "metadata": {},
   "source": [
    "### Label data를 one-hot vector로 만들기"
   ]
  },
  {
   "cell_type": "code",
   "execution_count": null,
   "metadata": {},
   "outputs": [],
   "source": [
    "print ('Y_tr : ', Y_tr[0:10])\n",
    "print ('Y_te : ', Y_te[0:10])"
   ]
  },
  {
   "cell_type": "code",
   "execution_count": null,
   "metadata": {},
   "outputs": [],
   "source": [
    "from keras.utils import to_categorical\n",
    "Y_te_onehot = to_categorical(Y_te, num_classes=10)\n",
    "Y_tr_onehot = to_categorical(Y_tr, num_classes=10)"
   ]
  },
  {
   "cell_type": "code",
   "execution_count": null,
   "metadata": {},
   "outputs": [],
   "source": [
    "print ('Y_tr_onehot : \\n', Y_tr_onehot[0:10])\n",
    "print ('Y_te_onehot : \\n', Y_te_onehot[0:10])\n",
    "print ('Y_tr_onehot.shape : \\n', Y_tr_onehot.shape)\n",
    "print ('Y_te_onehot.shape : \\n', Y_te_onehot.shape)"
   ]
  },
  {
   "cell_type": "markdown",
   "metadata": {},
   "source": [
    "### Keras 모델 빌드하기\n",
    "#### 모델을 build 할 때 필요한 데이터 정보 가져오기"
   ]
  },
  {
   "cell_type": "code",
   "execution_count": null,
   "metadata": {},
   "outputs": [],
   "source": [
    "input_shape = X_tr_input.shape[1:]\n",
    "output_shape = Y_te_onehot.shape[1]\n",
    "\n",
    "print ('input_shape : ', input_shape )\n",
    "print ('output_shape : ', output_shape )"
   ]
  },
  {
   "cell_type": "markdown",
   "metadata": {},
   "source": [
    "#### Keras 모델 설계"
   ]
  },
  {
   "cell_type": "code",
   "execution_count": null,
   "metadata": {},
   "outputs": [],
   "source": [
    "from keras.models import Sequential, Model\n",
    "from keras.layers import Dense, Dropout, Flatten, Activation, Add, Input, Average\n",
    "from keras.layers import Conv2D, MaxPooling2D\n",
    "from keras.utils import plot_model\n",
    "\n",
    "input_layer = Input(shape=input_shape)\n",
    "        \n",
    "layer = input_layer\n",
    "\n",
    "layer = Conv2D(32, (3, 3), kernel_initializer='RandomNormal', padding='same')(layer)\n",
    "layer = Activation('relu')(layer)\n",
    "layer = MaxPooling2D((2,2))(layer)\n",
    "\n",
    "layer = Conv2D(64, (3, 3), kernel_initializer='RandomNormal', padding='same')(layer)\n",
    "layer = Activation('relu')(layer)\n",
    "layer = MaxPooling2D((2,2))(layer)\n",
    "\n",
    "layer = Conv2D(128, (3, 3), kernel_initializer='RandomNormal', padding='same')(layer)\n",
    "layer = Activation('relu')(layer)\n",
    "layer = MaxPooling2D((2,2))(layer)\n",
    "\n",
    "layer = Flatten()(layer)\n",
    "layer = Dense(256, kernel_initializer='RandomNormal')(layer)\n",
    "layer = Dropout(0.5)(layer)\n",
    "layer = Activation('relu')(layer)\n",
    "layer = Dense(256, kernel_initializer='RandomNormal')(layer)\n",
    "layer = Dropout(0.5)(layer)\n",
    "layer = Activation('relu')(layer)\n",
    "layer = Dense(output_shape, kernel_initializer='RandomNormal', activation='softmax')(layer)\n",
    "\n",
    "output_layer = layer\n",
    "model = Model(inputs=[input_layer], outputs=[output_layer])"
   ]
  },
  {
   "cell_type": "markdown",
   "metadata": {},
   "source": [
    "#### Optimizer  및 Loss function 선택 후 Model 컴파일"
   ]
  },
  {
   "cell_type": "code",
   "execution_count": null,
   "metadata": {},
   "outputs": [],
   "source": [
    "from keras.optimizers import SGD\n",
    "sgd=SGD(lr=0.01, momentum=0.001, decay=0.0001, nesterov=True)\n",
    "model.compile(loss='categorical_crossentropy', optimizer=sgd, metrics=['accuracy'])"
   ]
  },
  {
   "cell_type": "markdown",
   "metadata": {},
   "source": [
    "#### 컴파일된 모델 정보 출력 1"
   ]
  },
  {
   "cell_type": "code",
   "execution_count": null,
   "metadata": {},
   "outputs": [],
   "source": [
    "print (model.summary())"
   ]
  },
  {
   "cell_type": "markdown",
   "metadata": {},
   "source": [
    "#### 컴파일된 모델 정보 출력 2"
   ]
  },
  {
   "cell_type": "code",
   "execution_count": null,
   "metadata": {},
   "outputs": [],
   "source": [
    "import matplotlib.image as mpimg\n",
    "plot_model(model,'model_image.png', show_layer_names=False, show_shapes=True)\n",
    "model_img=mpimg.imread('model_image.png')\n",
    "plt.figure(figsize=[10,50])\n",
    "plt.imshow(model_img)"
   ]
  },
  {
   "cell_type": "markdown",
   "metadata": {},
   "source": [
    "#### Training model"
   ]
  },
  {
   "cell_type": "code",
   "execution_count": null,
   "metadata": {},
   "outputs": [],
   "source": [
    "history = model.fit(X_tr_input, Y_tr_onehot,validation_data=[X_te_input, Y_te_onehot], epochs=50, batch_size=128, verbose=1)\n",
    "# list all data in history"
   ]
  },
  {
   "cell_type": "markdown",
   "metadata": {},
   "source": [
    "#### Graph를 이용하여 Training 결과 확인하기"
   ]
  },
  {
   "cell_type": "code",
   "execution_count": null,
   "metadata": {},
   "outputs": [],
   "source": [
    "print(history.history.keys())\n",
    "\n",
    "plt.figure(figsize=[10,8])\n",
    "plt.plot(history.history['acc'])\n",
    "plt.plot(history.history['val_acc'])\n",
    "plt.title('model accuracy')\n",
    "plt.ylabel('accuracy')\n",
    "plt.xlabel('epoch')\n",
    "plt.legend(['train', 'test'], loc='upper left')\n",
    "plt.show()\n",
    "\n",
    "plt.figure(figsize=[10,8])\n",
    "plt.plot(history.history['loss'])\n",
    "plt.plot(history.history['val_loss'])\n",
    "plt.title('model loss')\n",
    "plt.ylabel('loss')\n",
    "plt.xlabel('epoch')\n",
    "plt.legend(['train', 'test'], loc='upper left')\n",
    "plt.show()"
   ]
  },
  {
   "cell_type": "code",
   "execution_count": null,
   "metadata": {},
   "outputs": [],
   "source": [
    "print ('best accuracy : ', max(history.history['val_acc']))"
   ]
  },
  {
   "cell_type": "markdown",
   "metadata": {},
   "source": [
    "### 참고자료"
   ]
  },
  {
   "cell_type": "markdown",
   "metadata": {},
   "source": [
    "#### 1. Keras documentation : https://keras.io\n",
    "#### 2. Keras FAQ: Frequently Asked Keras Questions : https://keras.io/getting-started/faq/\n",
    "#### 3. Training 한 Weight는 어떻게 저장하나요? : https://keras.io/getting-started/faq/#how-can-i-save-a-keras-model\n",
    "#### 4. Pre-trained modeld은 어떻게 쓰나요? : https://keras.io/getting-started/faq/#how-can-i-use-pre-trained-models-in-keras\n",
    "#### 5 Model을 Training 하면서 Checkpoint는 어떻게 설정하나요? : https://machinelearningmastery.com/check-point-deep-learning-models-keras/\n",
    "#### 6. 각 Epoch의 시작과 끝, Training의 시작과 끝에 custom function을 실행 시킬 수 있나요? : https://keunwoochoi.wordpress.com/2016/07/16/keras-callbacks/\n",
    "#### 8. Data preprocessing을 위한 class가 있나요? : https://keras.io/preprocessing/image/\n",
    "#### 9. Custom layer를 생성 할 수 있나요? : https://keras.io/layers/writing-your-own-keras-layers/\n",
    "#### 10. Residual network는 어떻게 설계하나요? : https://ctmakro.github.io/site/on_learning/resnet_keras.html"
   ]
  },
  {
   "cell_type": "markdown",
   "metadata": {},
   "source": [
    "### 과제 : 요구조건에 맞는 Model을 생성하고 결과 확인하기"
   ]
  },
  {
   "cell_type": "markdown",
   "metadata": {},
   "source": [
    "#### 요구조건\n",
    "1. **Adam optimizer**를 사용하고 내부 parameter는 **default**를 그대로 사용할 것\n",
    "2. Convolutional layer, Dense layer의 **kernel_regularizer를 0.00001**로 설정할 것\n",
    "3. Convolutional layer, Dense layer의 **kernel_initializer를 'he_uniform'**으로 설정할 것\n",
    "3. 모든 Convolutional layer의 **Filter_size를 (3,3)**으로 설정할 것, Padding을 사용할 것\n",
    "4. Output Layer의 Softmax를 제외한 **Activation function은 'LeakyReLU'**를 사용할 것\n",
    "5. Pooling layer는 **MaxPooling(size = (2,2))**를 이용할 것\n",
    "6. **BatchNormalization Layer**를 사용하고 내부 parameter는 **default**를 그대로 사용할 것\n",
    "7. Loss function(categorical_crossentropy), metric(Accuracy)는 그대로 유지할 것\n",
    "8. Mini batch size = 128, Epochs=50으로 진행할 것\n",
    "9. ****위의 요구조건을 만족시키면서 아래의 그림과 동일한 Layer를 설계하여 Training 및 Test 할 것**** (위 참고자료 및 구글링을 적극 활용할 것)\n",
    "* 디렉토리 내에 위치한 practice_model1.png, pratice_model2.png 그림을 참고할 것"
   ]
  },
  {
   "cell_type": "code",
   "execution_count": null,
   "metadata": {
    "scrolled": false
   },
   "outputs": [],
   "source": [
    "####################################################################################\n",
    "#################### 모델 설계에 필요한 Layer를 Import 하세요 #############################\n",
    "\n",
    "from keras.models import Sequential, Model\n",
    "from keras.layers import Dense, Dropout, Flatten, Activation, Add, Input, Average\n",
    "from keras.layers import Conv2D, MaxPooling2D, LeakyReLU, BatchNormalization\n",
    "from keras.utils import plot_model\n",
    "from keras import regularizers\n",
    "\n",
    "#################### 모델 설계에 필요한 Layer를 Import 하세요 #############################\n",
    "####################################################################################\n",
    "\n",
    "input_layer = Input(shape=input_shape)    \n",
    "layer = input_layer\n",
    "\n",
    "####################################################################################\n",
    "#################### layer 변수를 이용해서 모델을 설계하세요 ###############################\n",
    "\n",
    "#################### layer 변수를 이용해서 모델을 설계하세요 ###############################\n",
    "####################################################################################\n",
    "\n",
    "output_layer = layer\n",
    "practice_model = Model(inputs=[input_layer], outputs=[output_layer])\n",
    "\n",
    "####################################################################################\n",
    "#################### Optimizer를 선택하고 모델을 컴파일 하세요 #############################\n",
    "\n",
    "#from keras.optimizers import SGD\n",
    "#sgd=SGD(lr=0.01, momentum=0.001, decay=0.0001, nesterov=True)\n",
    "#practice_model.compile(loss='categorical_crossentropy', optimizer=sgd, metrics=['accuracy'])\n",
    "\n",
    "#################### Optimizer를 선택하고 모델을 컴파일 하세요 #############################\n",
    "####################################################################################\n",
    "\n",
    "\n",
    "####################################################################################\n",
    "#################### 설계한 모델을 확인하세요 ############################################\n",
    "\n",
    "print (practice_model.summary())\n",
    "plot_model(practice_model,'my_custom_model.png', show_layer_names=False, show_shapes=True)\n",
    "model_img=mpimg.imread('my_custom_model.png')\n",
    "\n",
    "#################### 설계한 모델을 확인하세요 ############################################\n",
    "####################################################################################"
   ]
  },
  {
   "cell_type": "code",
   "execution_count": null,
   "metadata": {},
   "outputs": [],
   "source": [
    "practice_history = practice_model.fit(X_tr_input, Y_tr_onehot,validation_data=[X_te_input, Y_te_onehot], epochs=50, batch_size=128, verbose=1)\n",
    "# list all data in history"
   ]
  },
  {
   "cell_type": "code",
   "execution_count": null,
   "metadata": {},
   "outputs": [],
   "source": [
    "print(history.history.keys())\n",
    "\n",
    "plt.figure(figsize=[10,8])\n",
    "plt.plot(practice_history.history['acc'])\n",
    "plt.plot(practice_history.history['val_acc'])\n",
    "plt.title('model accuracy')\n",
    "plt.ylabel('accuracy')\n",
    "plt.xlabel('epoch')\n",
    "plt.legend(['train', 'test'], loc='upper left')\n",
    "plt.show()\n",
    "\n",
    "plt.figure(figsize=[10,8])\n",
    "plt.plot(practice_history.history['loss'])\n",
    "plt.plot(practice_history.history['val_loss'])\n",
    "plt.title('model loss')\n",
    "plt.ylabel('loss')\n",
    "plt.xlabel('epoch')\n",
    "plt.legend(['train', 'test'], loc='upper left')\n",
    "plt.show()"
   ]
  },
  {
   "cell_type": "markdown",
   "metadata": {},
   "source": [
    "#### 최종 Accuracy는 최소 0.6을 넘겨야 함"
   ]
  },
  {
   "cell_type": "code",
   "execution_count": null,
   "metadata": {},
   "outputs": [],
   "source": [
    "print ('best accuracy : ', max(practice_history.history['val_acc']))"
   ]
  },
  {
   "cell_type": "code",
   "execution_count": null,
   "metadata": {},
   "outputs": [],
   "source": []
  }
 ],
 "metadata": {
  "kernelspec": {
   "display_name": "Python 3",
   "language": "python",
   "name": "python3"
  },
  "language_info": {
   "codemirror_mode": {
    "name": "ipython",
    "version": 3
   },
   "file_extension": ".py",
   "mimetype": "text/x-python",
   "name": "python",
   "nbconvert_exporter": "python",
   "pygments_lexer": "ipython3",
   "version": "3.6.7"
  }
 },
 "nbformat": 4,
 "nbformat_minor": 2
}
